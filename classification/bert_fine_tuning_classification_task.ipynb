{
 "cells": [
  {
   "cell_type": "code",
   "execution_count": 11,
   "metadata": {},
   "outputs": [],
   "source": [
    "import pandas as pd"
   ]
  },
  {
   "cell_type": "code",
   "execution_count": 15,
   "metadata": {},
   "outputs": [],
   "source": [
    "train_col1_seq = list([1,2,3])\n",
    "train_col2_labels = list([1,1,0]) \n",
    "train_col3_junk = list(['a','a','a'])\n",
    "train_col4_sentence = list(['good boy','good girl','bad boy'])\n",
    "\n",
    "train_df = pd.DataFrame(data=list(zip(train_col1_seq,train_col2_labels, train_col3_junk, train_col4_sentence)))\n",
    "train_df.to_csv('train.tsv', sep='\\t', index=False, header=False)"
   ]
  },
  {
   "cell_type": "code",
   "execution_count": 17,
   "metadata": {},
   "outputs": [],
   "source": [
    "dev_col1_seq = list([1,2])\n",
    "dev_col2_labels = list([1,0]) \n",
    "dev_col3_junk = list(['a','a'])\n",
    "dev_col4_sentence = list(['cool shades','shit clothes'])\n",
    "\n",
    "train_df = pd.DataFrame(data=list(zip(dev_col1_seq,dev_col2_labels, dev_col3_junk, dev_col4_sentence)))\n",
    "train_df.to_csv('dev.tsv', sep='\\t', index=False, header=False)"
   ]
  },
  {
   "cell_type": "code",
   "execution_count": 18,
   "metadata": {},
   "outputs": [],
   "source": [
    "test_col1_seq = list([1,2])\n",
    "test_col4_sentence = list(['cool man','shit'])\n",
    "\n",
    "train_df = pd.DataFrame(data=list(zip(test_col1_seq,test_col4_sentence)), columns=['id','sentence'])\n",
    "train_df.to_csv('test.tsv', sep='\\t', index=False, header=True)"
   ]
  },
  {
   "cell_type": "code",
   "execution_count": null,
   "metadata": {},
   "outputs": [],
   "source": []
  }
 ],
 "metadata": {
  "kernelspec": {
   "display_name": "Python 3",
   "language": "python",
   "name": "python3"
  },
  "language_info": {
   "codemirror_mode": {
    "name": "ipython",
    "version": 3
   },
   "file_extension": ".py",
   "mimetype": "text/x-python",
   "name": "python",
   "nbconvert_exporter": "python",
   "pygments_lexer": "ipython3",
   "version": "3.7.3"
  }
 },
 "nbformat": 4,
 "nbformat_minor": 2
}
